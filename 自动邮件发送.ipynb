{
 "cells": [
  {
   "cell_type": "markdown",
   "metadata": {
    "toc": "true"
   },
   "source": [
    "# Table of Contents\n",
    " <p>"
   ]
  },
  {
   "cell_type": "code",
   "execution_count": 1,
   "metadata": {
    "ExecuteTime": {
     "end_time": "2019-02-27T01:28:18.353384Z",
     "start_time": "2019-02-27T01:28:16.258440Z"
    }
   },
   "outputs": [],
   "source": [
    "import pandas as pd\n",
    "import numpy as np\n",
    "import smtplib\n",
    "from email.mime.text import MIMEText\n",
    "from email.header import Header"
   ]
  },
  {
   "cell_type": "code",
   "execution_count": null,
   "metadata": {},
   "outputs": [],
   "source": [
    "mail_host=\"smtp.nifa.org.cn\"  #设置服务器\n",
    "mail_user=\"wjdc@nifa.org.cn\"    \n",
    "mail_pass=\"Adgj@653\"   \n",
    " \n",
    " \n",
    "sender = 'from@runoob.com'\n",
    "receivers = ['429240967@qq.com']  # 接收邮件，可设置为你的QQ邮箱或者其他邮箱\n",
    " \n",
    "message = MIMEText('Python 邮件发送测试...', 'plain', 'utf-8')\n",
    "message['From'] = Header(\"菜鸟教程\", 'utf-8')\n",
    "message['To'] =  Header(\"测试\", 'utf-8')\n",
    " \n",
    "subject = 'Python SMTP 邮件测试'\n",
    "message['Subject'] = Header(subject, 'utf-8')\n",
    " \n",
    " \n",
    "try:\n",
    "    smtpObj = smtplib.SMTP() \n",
    "    smtpObj.connect(mail_host, 25)    # 25 为 SMTP 端口号\n",
    "    smtpObj.login(mail_user,mail_pass)  \n",
    "    smtpObj.sendmail(sender, receivers, message.as_string())\n",
    "    print \"邮件发送成功\"\n",
    "except smtplib.SMTPException:\n",
    "    print \"Error: 无法发送邮件\""
   ]
  },
  {
   "cell_type": "code",
   "execution_count": null,
   "metadata": {},
   "outputs": [],
   "source": [
    "usr_list = ['data@nifa.org.cn','18645646345@163.com','1344039092@qq.com','m13161000251@163.com']"
   ]
  },
  {
   "cell_type": "code",
   "execution_count": 31,
   "metadata": {
    "ExecuteTime": {
     "end_time": "2019-02-27T02:53:08.434279Z",
     "start_time": "2019-02-27T02:53:08.425513Z"
    }
   },
   "outputs": [
    {
     "name": "stdout",
     "output_type": "stream",
     "text": [
      "亲爱的1 data@nifa.org.cn\n",
      "亲爱的2 18645646345@163.com\n",
      "亲爱的3 1344039092@qq.com\n",
      "亲爱的5 m13161000251@163.com\n"
     ]
    }
   ],
   "source": [
    "usr_list = ['data@nifa.org.cn','18645646345@163.com','1344039092@qq.com','m13161000251@163.com']\n",
    "beg = ['1','2','3','5']\n",
    "s = 0\n",
    "for i in beg:\n",
    "    contents = '亲爱的%(i)s'%{ 'i': i}\n",
    "    print(contents,usr_list[s])\n",
    "    s = s + 1"
   ]
  },
  {
   "cell_type": "code",
   "execution_count": 33,
   "metadata": {
    "ExecuteTime": {
     "end_time": "2019-02-27T03:10:20.478336Z",
     "start_time": "2019-02-27T03:09:39.321239Z"
    }
   },
   "outputs": [],
   "source": [
    "import yagmail\n",
    "\n",
    "yag = yagmail.SMTP('wjdc@nifa.org.cn', 'Adgj@653', host='mail.nifa.org.cn', port='465')\n",
    "\n",
    "usr_list = ['data@nifa.org.cn','18645646345@163.com','1344039092@qq.com','m13161000251@163.com']\n",
    "beg = ['共享平台','媛媛姐','大博哥','董立武']\n",
    "s = 0\n",
    "for i in beg:\n",
    "    contents = '亲爱的%(i)s'% { 'i': i}\n",
    "    yag.send(usr_list[s], 'from_tst', contents,['/Users/livedong/Desktop/att.pdf'])\n",
    "    s = s + 1"
   ]
  },
  {
   "cell_type": "code",
   "execution_count": 74,
   "metadata": {
    "ExecuteTime": {
     "end_time": "2019-02-27T03:31:17.201524Z",
     "start_time": "2019-02-27T03:31:17.195083Z"
    }
   },
   "outputs": [
    {
     "data": {
      "text/plain": [
       "['data@nifa.org.cn',\n",
       " '18645646345@163.com',\n",
       " '1344039092@qq.com',\n",
       " 'pantingting@nifa.org.cn']"
      ]
     },
     "execution_count": 74,
     "metadata": {},
     "output_type": "execute_result"
    }
   ],
   "source": [
    "list(usr.iloc[:,1])"
   ]
  },
  {
   "cell_type": "code",
   "execution_count": 43,
   "metadata": {
    "ExecuteTime": {
     "end_time": "2019-02-27T03:16:38.243058Z",
     "start_time": "2019-02-27T03:16:38.238443Z"
    }
   },
   "outputs": [],
   "source": [
    "usr0 = usr.iloc[:,0:2]"
   ]
  },
  {
   "cell_type": "code",
   "execution_count": 49,
   "metadata": {
    "ExecuteTime": {
     "end_time": "2019-02-27T03:20:51.820735Z",
     "start_time": "2019-02-27T03:20:51.814755Z"
    }
   },
   "outputs": [],
   "source": [
    "a = usr0.to_dict()"
   ]
  },
  {
   "cell_type": "code",
   "execution_count": 53,
   "metadata": {
    "ExecuteTime": {
     "end_time": "2019-02-27T03:22:58.658368Z",
     "start_time": "2019-02-27T03:22:58.653763Z"
    }
   },
   "outputs": [],
   "source": [
    "usr_list = ['data@nifa.org.cn','18645646345@163.com','1344039092@qq.com','m13161000251@163.com']\n",
    "beg = ['共享平台','媛媛姐','大博哥','董立武']\n",
    "a = dict(zip(usr_list,beg))"
   ]
  },
  {
   "cell_type": "code",
   "execution_count": 59,
   "metadata": {
    "ExecuteTime": {
     "end_time": "2019-02-27T03:26:39.437659Z",
     "start_time": "2019-02-27T03:26:39.432869Z"
    }
   },
   "outputs": [
    {
     "name": "stdout",
     "output_type": "stream",
     "text": [
      "data@nifa.org.cn 共享平台\n",
      "18645646345@163.com 媛媛姐\n",
      "1344039092@qq.com 大博哥\n",
      "m13161000251@163.com 董立武\n"
     ]
    }
   ],
   "source": [
    "for i,s in a.items():\n",
    "    print(i,s)"
   ]
  },
  {
   "cell_type": "code",
   "execution_count": 62,
   "metadata": {
    "ExecuteTime": {
     "end_time": "2019-02-27T03:27:43.073478Z",
     "start_time": "2019-02-27T03:27:43.067593Z"
    }
   },
   "outputs": [
    {
     "data": {
      "text/plain": [
       "['data@nifa.org.cn',\n",
       " '18645646345@163.com',\n",
       " '1344039092@qq.com',\n",
       " 'pantingting@nifa.org.cn']"
      ]
     },
     "execution_count": 62,
     "metadata": {},
     "output_type": "execute_result"
    }
   ],
   "source": [
    "list(usr.iloc[:,1])"
   ]
  },
  {
   "cell_type": "code",
   "execution_count": 80,
   "metadata": {
    "ExecuteTime": {
     "end_time": "2019-02-27T03:35:44.542041Z",
     "start_time": "2019-02-27T03:35:44.536226Z"
    }
   },
   "outputs": [
    {
     "name": "stdout",
     "output_type": "stream",
     "text": [
      "ok 潘婷婷 data@nifa.org.cn 亲爱的潘婷婷\n",
      "ok 王媛媛 18645646345@163.com 亲爱的王媛媛\n",
      "ok 王博 1344039092@qq.com 亲爱的王博\n",
      "ok 松松 pantingting@nifa.org.cn 亲爱的松松\n"
     ]
    }
   ],
   "source": [
    "for i,s in usr_add.items():\n",
    "    contents = '亲爱的%(i)s'% { 'i': i}\n",
    "#     yag.send(s, 'from_tst', contents,['/Users/livedong/Desktop/att.pdf'])\n",
    "    print('ok',i,s,contents)"
   ]
  },
  {
   "cell_type": "code",
   "execution_count": 78,
   "metadata": {
    "ExecuteTime": {
     "end_time": "2019-02-27T03:33:05.525271Z",
     "start_time": "2019-02-27T03:32:44.524949Z"
    }
   },
   "outputs": [
    {
     "name": "stdout",
     "output_type": "stream",
     "text": [
      "ok\n",
      "ok\n",
      "ok\n",
      "ok\n"
     ]
    }
   ],
   "source": [
    "import pandas as pd\n",
    "import yagmail\n",
    "\n",
    "usr = pd.read_excel('/Users/livedong/Desktop/usr.xlsx')\n",
    "yag = yagmail.SMTP('wjdc@nifa.org.cn', 'Adgj@653', host='mail.nifa.org.cn', port='465')\n",
    "\n",
    "\n",
    "ur = list(usr.iloc[:,0])\n",
    "add = list(usr.iloc[:,1])\n",
    "usr_add = dict(zip(ur,add))\n",
    "\n",
    "\n",
    "for i,s in usr_add.items():\n",
    "    contents = '亲爱的%(i)s'% { 'i': i}\n",
    "    yag.send(s, 'from_tst', contents,['/Users/livedong/Desktop/att.pdf'])\n",
    "    print('ok')\n",
    "\n",
    "print('finish')"
   ]
  },
  {
   "cell_type": "code",
   "execution_count": null,
   "metadata": {},
   "outputs": [],
   "source": []
  }
 ],
 "metadata": {
  "hide_input": false,
  "kernelspec": {
   "display_name": "Python 3",
   "language": "python",
   "name": "python3"
  },
  "language_info": {
   "codemirror_mode": {
    "name": "ipython",
    "version": 3
   },
   "file_extension": ".py",
   "mimetype": "text/x-python",
   "name": "python",
   "nbconvert_exporter": "python",
   "pygments_lexer": "ipython3",
   "version": "3.6.4"
  },
  "toc": {
   "colors": {
    "hover_highlight": "#DAA520",
    "navigate_num": "#000000",
    "navigate_text": "#333333",
    "running_highlight": "#FF0000",
    "selected_highlight": "#FFD700",
    "sidebar_border": "#EEEEEE",
    "wrapper_background": "#FFFFFF"
   },
   "moveMenuLeft": true,
   "nav_menu": {
    "height": "12px",
    "width": "252px"
   },
   "navigate_menu": true,
   "number_sections": true,
   "sideBar": true,
   "threshold": "10",
   "toc_cell": true,
   "toc_section_display": "block",
   "toc_window_display": true,
   "widenNotebook": false
  }
 },
 "nbformat": 4,
 "nbformat_minor": 2
}
